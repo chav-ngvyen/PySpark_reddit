{
 "cells": [
  {
   "cell_type": "code",
   "execution_count": 1,
   "id": "752cdd19-f8e9-440e-8c1b-66813d4d44e0",
   "metadata": {},
   "outputs": [],
   "source": [
    "import findspark\n",
    "findspark.init()"
   ]
  },
  {
   "cell_type": "code",
   "execution_count": 2,
   "id": "2c77c95a-37b6-49ff-a605-26ba04e6808e",
   "metadata": {},
   "outputs": [],
   "source": [
    "import pyspark.sql.functions as f\n",
    "from pyspark.sql.functions import col, lit\n",
    "from pyspark.sql import SparkSession\n",
    "\n",
    "import seaborn as sns"
   ]
  },
  {
   "cell_type": "code",
   "execution_count": 3,
   "id": "0b79dd1e-b1ef-43c4-98fa-3f4765e6242a",
   "metadata": {},
   "outputs": [
    {
     "name": "stderr",
     "output_type": "stream",
     "text": [
      "Setting default log level to \"WARN\".\n",
      "To adjust logging level use sc.setLogLevel(newLevel). For SparkR, use setLogLevel(newLevel).\n",
      "22/05/04 01:36:28 WARN Client: Neither spark.yarn.jars nor spark.yarn.archive is set, falling back to uploading libraries under SPARK_HOME.\n",
      "22/05/04 01:36:39 WARN YarnSchedulerBackend$YarnSchedulerEndpoint: Attempted to request executors before the AM has registered!\n"
     ]
    }
   ],
   "source": [
    "spark = SparkSession.builder.appName(\"reddit\").getOrCreate()"
   ]
  },
  {
   "cell_type": "code",
   "execution_count": 4,
   "id": "93ef9382-f0d7-4645-b1aa-9d080910f1ff",
   "metadata": {},
   "outputs": [
    {
     "data": {
      "text/html": [
       "\n",
       "            <div>\n",
       "                <p><b>SparkSession - in-memory</b></p>\n",
       "                \n",
       "        <div>\n",
       "            <p><b>SparkContext</b></p>\n",
       "\n",
       "            <p><a href=\"http://ip-172-31-12-144.ec2.internal:4040\">Spark UI</a></p>\n",
       "\n",
       "            <dl>\n",
       "              <dt>Version</dt>\n",
       "                <dd><code>v3.0.0-amzn-0</code></dd>\n",
       "              <dt>Master</dt>\n",
       "                <dd><code>yarn</code></dd>\n",
       "              <dt>AppName</dt>\n",
       "                <dd><code>reddit</code></dd>\n",
       "            </dl>\n",
       "        </div>\n",
       "        \n",
       "            </div>\n",
       "        "
      ],
      "text/plain": [
       "<pyspark.sql.session.SparkSession at 0x7f472feebb90>"
      ]
     },
     "execution_count": 4,
     "metadata": {},
     "output_type": "execute_result"
    }
   ],
   "source": [
    "spark"
   ]
  },
  {
   "cell_type": "code",
   "execution_count": 5,
   "id": "db70af6a-66e6-4eeb-be9a-8524ecd6be1c",
   "metadata": {},
   "outputs": [
    {
     "name": "stderr",
     "output_type": "stream",
     "text": [
      "                                                                                \r"
     ]
    }
   ],
   "source": [
    "df = spark.read.parquet('s3://cn490-project/reddit')"
   ]
  },
  {
   "cell_type": "markdown",
   "id": "f7d72b2a-ada2-47e5-b41a-b8110ef3ce60",
   "metadata": {},
   "source": [
    "# Clean data"
   ]
  },
  {
   "cell_type": "markdown",
   "id": "a8af5132-7d8b-4cd6-bef6-08b68d83dad2",
   "metadata": {},
   "source": [
    "### Timestamps"
   ]
  },
  {
   "cell_type": "code",
   "execution_count": 6,
   "id": "519f2f34-8746-48e2-817f-9097a52ebc4a",
   "metadata": {},
   "outputs": [],
   "source": [
    "from pyspark.sql.functions import *\n",
    "import pyspark.sql.functions as F\n",
    "from pyspark.sql import Window\n",
    "from pyspark.sql.types import IntegerType\n",
    "\n",
    "df = df.withColumn(\"created_utc_ts\", from_unixtime(col(\"created_utc\"),\"MM-dd-yyyy HH:mm:ss\")) \\\n",
    "    .withColumn(\"author_created_utc_ts\", from_unixtime(col(\"author_created_utc\"),\"MM-dd-yyyy HH:mm:ss\")) \\"
   ]
  },
  {
   "cell_type": "code",
   "execution_count": 7,
   "id": "129fe95d-2532-4b29-808c-ed5934142f52",
   "metadata": {},
   "outputs": [],
   "source": [
    "# Get Date\n",
    "df = df.withColumn(\"created_date\", to_date(to_timestamp(\"created_utc_ts\",'MM-dd-yyyy HH:mm:ss'))) \\\n",
    "        .withColumn(\"author_created_date\", to_date(to_timestamp(\"author_created_utc_ts\",'MM-dd-yyyy HH:mm:ss'))) \\"
   ]
  },
  {
   "cell_type": "code",
   "execution_count": 8,
   "id": "2346f6d2-64de-49e0-ba88-3860fffab0a5",
   "metadata": {},
   "outputs": [],
   "source": [
    "# Get Time\n",
    "df = df.withColumn(\"created_time\", date_format(to_timestamp(\"created_utc_ts\",'MM-dd-yyyy HH:mm:ss'), 'HH:mm:ss')) \\\n",
    "    .withColumn(\"author_created_time\", date_format(to_timestamp(\"author_created_utc_ts\",'MM-dd-yyyy HH:mm:ss'), 'HH:mm:ss')) \\"
   ]
  },
  {
   "cell_type": "code",
   "execution_count": 9,
   "id": "878a0e0b-6755-49c9-98fd-d9c6d38e8192",
   "metadata": {},
   "outputs": [],
   "source": [
    "# Get Hour\n",
    "df = df.withColumn(\"created_hour\", hour(to_timestamp(\"created_utc_ts\",'MM-dd-yyyy HH:mm:ss'))) \\\n",
    "        .withColumn(\"author_created_hour\", hour(to_timestamp(\"author_created_utc_ts\",'MM-dd-yyyy HH:mm:ss')))"
   ]
  },
  {
   "cell_type": "markdown",
   "id": "ade4cc22-b3e4-476e-8088-b8957fc9f796",
   "metadata": {},
   "source": [
    "### Feature engineering"
   ]
  },
  {
   "cell_type": "code",
   "execution_count": 10,
   "id": "0d2482b4-3600-4c6f-b395-190e0da1453a",
   "metadata": {},
   "outputs": [],
   "source": [
    "# Account age in days\n",
    "df = df.withColumn(\"acc_age_days\", (col(\"created_utc\") - col(\"author_created_utc\"))/86400)\n",
    "\n",
    "# Log transform\n",
    "df = df.withColumn(\"log_age\", log(df.acc_age_days+1)).fillna(0,subset=['log_age'])"
   ]
  },
  {
   "cell_type": "code",
   "execution_count": 11,
   "id": "e737afa0-c392-4b27-8c9d-26264015e6f2",
   "metadata": {},
   "outputs": [],
   "source": [
    "# Account created hour minus post created hour \n",
    "df = df.withColumn(\"diff_created\", pow(col(\"created_hour\")-col(\"author_created_hour\"),2)).fillna(-1, subset=['diff_created'])"
   ]
  },
  {
   "cell_type": "code",
   "execution_count": 12,
   "id": "346c31b8-0207-4a23-8320-e7c6afbf6b81",
   "metadata": {},
   "outputs": [],
   "source": [
    "# Removed body\n",
    "df = df.withColumn(\"rm_body\", F.when(col(\"body\")==\"[removed]\",True).otherwise(False))\n",
    "# Deleted Body\n",
    "df = df.withColumn(\"deleted_body\", F.when(col(\"body\")==\"[deleted]\",True).otherwise(False))\n",
    "\n",
    "# Negative score\n",
    "df = df.withColumn(\"neg_score\", F.when(col(\"score\") < 0, True).otherwise(False))\n",
    "\n",
    "# Post got deleted\n",
    "df = df.withColumn(\"deleted_post\", F.when(col(\"author\")==\"[deleted]\",True).otherwise(False))\n",
    "\n",
    "# Comment collapsed because low score\n",
    "df = df.withColumn(\"low_score\", F.when(col(\"collapsed_reason\").isNotNull(),True).otherwise(False))\n",
    "\n",
    "# Has flair\n",
    "df = df.withColumn(\"has_flair\", F.when(col(\"author_flair_text\").isNotNull(),True).otherwise(False))\n",
    "\n",
    "# Is moderator\n",
    "df = df.withColumn(\"is_mod\", F.when(col(\"distinguished\")=='moderator',True).otherwise(False))"
   ]
  },
  {
   "cell_type": "code",
   "execution_count": 13,
   "id": "3b5d685b-1759-4c7f-822c-5e1b3a3de13a",
   "metadata": {},
   "outputs": [],
   "source": [
    "# Day of week and posted on weekend\n",
    "df = df.withColumn('day_of_week', date_format(\"created_date\", \"EEEE\")) \\\n",
    "        .withColumn(\"posted_on_weekend\", \n",
    "                F.when(\n",
    "                    (date_format(\"created_date\", \"EEEE\") =='Sunday')| \\\n",
    "                    (date_format(\"created_date\", \"EEEE\") =='Saturday') \\\n",
    "                     ,1).otherwise(0)) \n"
   ]
  },
  {
   "cell_type": "code",
   "execution_count": 14,
   "id": "4872851b-e625-42cd-bc01-f4bf40396591",
   "metadata": {},
   "outputs": [],
   "source": [
    "df = df.fillna({'edited':False})\n",
    "\n",
    "# Recast boolean to integer\n",
    "df = df.withColumn('is_submitter', df.is_submitter.cast(IntegerType())) \\\n",
    "        .withColumn('deleted_post', df.deleted_post.cast(IntegerType())) \\\n",
    "        .withColumn('neg_score', df.neg_score.cast(IntegerType())) \\\n",
    "        .withColumn('has_flair', df.has_flair.cast(IntegerType())) \\\n",
    "        .withColumn('locked', df.locked.cast(IntegerType())) \\\n",
    "        .withColumn('can_gild', df.can_gild.cast(IntegerType())) \\\n",
    "        .withColumn('can_mod_post', df.can_mod_post.cast(IntegerType())) \\\n",
    "        .withColumn('edited', df.edited.cast(IntegerType())) \\\n",
    "        .withColumn('stickied', df.stickied.cast(IntegerType())) \\\n",
    "        .withColumn('gilded', df.gilded.cast(IntegerType())) \\\n",
    "        .withColumn('low_score', df.low_score.cast(IntegerType())) \\\n",
    "        .withColumn('send_replies', df.send_replies.cast(IntegerType())) \\\n",
    "        .withColumn('rm_body', df.rm_body.cast(IntegerType())) \\\n",
    "        .withColumn('deleted_body', df.deleted_body.cast(IntegerType())) "
   ]
  },
  {
   "cell_type": "code",
   "execution_count": 15,
   "id": "a6a3cf5c-507f-48f0-b3ed-6de6550434ee",
   "metadata": {},
   "outputs": [],
   "source": [
    "# Number of comments by same author in thread\n",
    "df = df.withColumn('user_comments_in_thread', F.count('id').over(Window.partitionBy('link_id', 'author')))\n",
    "\n",
    "# Total score by same author in thread\n",
    "df = df.withColumn('user_score_in_thread', F.sum('score').over(Window.partitionBy('link_id', 'author')))\n",
    "\n",
    "# Number of total comments in thread\n",
    "df = df.withColumn('thread_total_comments', F.count('id').over(Window.partitionBy('link_id')))"
   ]
  },
  {
   "cell_type": "code",
   "execution_count": 16,
   "id": "b8884f83-e4b9-4a8e-bb97-e7246f71c51a",
   "metadata": {},
   "outputs": [],
   "source": [
    "# Number of distinct users in thread\n",
    "\n",
    "df = df.withColumn('users_in_thread', F.approx_count_distinct('author').over(Window.partitionBy('link_id')))"
   ]
  },
  {
   "cell_type": "markdown",
   "id": "6a92bc4c-c364-43f8-9201-428e977b8aae",
   "metadata": {},
   "source": [
    "### Tokenize text columns"
   ]
  },
  {
   "cell_type": "code",
   "execution_count": 17,
   "id": "bd7f0e78-ed21-400e-a76a-42505afc171c",
   "metadata": {},
   "outputs": [],
   "source": [
    "from pyspark.ml.feature import Tokenizer, RegexTokenizer\n",
    "from pyspark.sql.functions import col, udf\n",
    "from pyspark.sql.types import IntegerType\n",
    "\n",
    "tokenizer = Tokenizer(inputCol=\"body\", outputCol=\"tokenized_body\")\n",
    "\n",
    "countTokens = udf(lambda words: len(words), IntegerType())\n",
    "df = tokenizer.transform(df)"
   ]
  },
  {
   "cell_type": "code",
   "execution_count": 18,
   "id": "762f1125-9a6e-4e9f-bd9a-e3ececf4e5bb",
   "metadata": {},
   "outputs": [],
   "source": [
    "df = df.withColumn(\"comment_length\", countTokens(col(\"tokenized_body\"))) "
   ]
  },
  {
   "cell_type": "code",
   "execution_count": 19,
   "id": "4325ed66-ff15-428e-8ad3-081072527cb2",
   "metadata": {},
   "outputs": [],
   "source": [
    "# replace null with empty string\n",
    "df = df.fillna({'author_flair_text':\" \"})\n",
    "\n",
    "flair_tokenizer = Tokenizer(inputCol=\"author_flair_text\", outputCol=\"tokenized_flair\")\n",
    "df = flair_tokenizer.transform(df)"
   ]
  },
  {
   "cell_type": "code",
   "execution_count": 20,
   "id": "4fbfafac-993f-4e6e-9c82-2587b5377197",
   "metadata": {},
   "outputs": [],
   "source": [
    "df = df.withColumn(\"flair_length\", size(col(\"tokenized_flair\")))"
   ]
  },
  {
   "cell_type": "markdown",
   "id": "25e99b65-8fe3-4621-9a41-4433f43599d8",
   "metadata": {},
   "source": [
    "## Classifier for is_submitter"
   ]
  },
  {
   "cell_type": "code",
   "execution_count": 21,
   "id": "ac5e59e2-0750-43fd-b842-9c4200c52413",
   "metadata": {},
   "outputs": [
    {
     "name": "stderr",
     "output_type": "stream",
     "text": [
      "22/05/04 01:36:51 WARN package: Truncated the string representation of a plan since it was too large. This behavior can be adjusted by setting 'spark.sql.debug.maxToStringFields'.\n"
     ]
    }
   ],
   "source": [
    "data = df.select('is_submitter',\n",
    "                 'day_of_week',\n",
    "                 'score','log_age',\n",
    "                 'deleted_post','neg_score','diff_created',\n",
    "                 'has_flair','comment_length','flair_length','is_mod',\n",
    "                 'user_comments_in_thread','user_score_in_thread','users_in_thread','thread_total_comments',\n",
    "                 'can_gild','can_mod_post','edited','stickied','locked','gilded',\n",
    "                 'rm_body','deleted_body','send_replies'\n",
    "                )\n",
    "\n",
    "data.createOrReplaceTempView(\"data\")"
   ]
  },
  {
   "cell_type": "code",
   "execution_count": 22,
   "id": "1de67226-9172-494f-b743-415e57a27f8c",
   "metadata": {},
   "outputs": [
    {
     "name": "stdout",
     "output_type": "stream",
     "text": [
      "root\n",
      " |-- is_submitter: integer (nullable = true)\n",
      " |-- day_of_week: string (nullable = true)\n",
      " |-- score: long (nullable = true)\n",
      " |-- log_age: double (nullable = false)\n",
      " |-- deleted_post: integer (nullable = false)\n",
      " |-- neg_score: integer (nullable = false)\n",
      " |-- diff_created: double (nullable = false)\n",
      " |-- has_flair: integer (nullable = false)\n",
      " |-- comment_length: integer (nullable = true)\n",
      " |-- flair_length: integer (nullable = false)\n",
      " |-- is_mod: boolean (nullable = false)\n",
      " |-- user_comments_in_thread: long (nullable = false)\n",
      " |-- user_score_in_thread: long (nullable = true)\n",
      " |-- users_in_thread: long (nullable = false)\n",
      " |-- thread_total_comments: long (nullable = false)\n",
      " |-- can_gild: integer (nullable = true)\n",
      " |-- can_mod_post: integer (nullable = true)\n",
      " |-- edited: integer (nullable = true)\n",
      " |-- stickied: integer (nullable = true)\n",
      " |-- locked: integer (nullable = true)\n",
      " |-- gilded: integer (nullable = true)\n",
      " |-- rm_body: integer (nullable = false)\n",
      " |-- deleted_body: integer (nullable = false)\n",
      " |-- send_replies: integer (nullable = true)\n",
      "\n"
     ]
    }
   ],
   "source": [
    "data.printSchema()"
   ]
  },
  {
   "cell_type": "code",
   "execution_count": 23,
   "id": "1a82daed-7b14-42ee-8c49-55d705b79264",
   "metadata": {},
   "outputs": [
    {
     "name": "stderr",
     "output_type": "stream",
     "text": [
      "                                                                                \r"
     ]
    },
    {
     "name": "stdout",
     "output_type": "stream",
     "text": [
      "Number of training records: 7141851\n"
     ]
    },
    {
     "name": "stderr",
     "output_type": "stream",
     "text": [
      "[Stage 9:======================================================>  (54 + 2) / 56]\r"
     ]
    },
    {
     "name": "stdout",
     "output_type": "stream",
     "text": [
      "Number of testing records : 1786550\n"
     ]
    },
    {
     "name": "stderr",
     "output_type": "stream",
     "text": [
      "                                                                                \r"
     ]
    }
   ],
   "source": [
    "train_data, test_data = data.randomSplit([0.8, 0.2], seed=42)\n",
    "print(\"Number of training records: \" + str(train_data.count()))\n",
    "print(\"Number of testing records : \" + str(test_data.count()))"
   ]
  },
  {
   "cell_type": "markdown",
   "id": "f39a9ad9-5a41-4d0c-81ea-cb9198680173",
   "metadata": {},
   "source": [
    "# Load trained model"
   ]
  },
  {
   "cell_type": "code",
   "execution_count": 24,
   "id": "4c23299b-877a-4071-9e74-c1ff774ee1bb",
   "metadata": {},
   "outputs": [
    {
     "name": "stderr",
     "output_type": "stream",
     "text": [
      "                                                                                \r"
     ]
    }
   ],
   "source": [
    "from pyspark.ml import PipelineModel\n",
    "\n",
    "model = PipelineModel.load(\"s3://cn490-project/model_location/gbt_big_f2\")"
   ]
  },
  {
   "cell_type": "markdown",
   "id": "fe7efd0c-6daa-4786-bef9-a0ced8cb7818",
   "metadata": {},
   "source": [
    "# Predict on training"
   ]
  },
  {
   "cell_type": "code",
   "execution_count": 26,
   "id": "363e0093-632f-48b3-aa97-411f3ca41618",
   "metadata": {},
   "outputs": [],
   "source": [
    "prediction_train = model.transform(train_data)"
   ]
  },
  {
   "cell_type": "code",
   "execution_count": 28,
   "id": "6b254e85-1d3c-4f11-a3b9-9ef31f96db27",
   "metadata": {},
   "outputs": [
    {
     "name": "stderr",
     "output_type": "stream",
     "text": [
      "                                                                                \r"
     ]
    }
   ],
   "source": [
    "y_pred_train=prediction_train.select(\"prediction\").collect()\n",
    "y_orig_train=prediction_train.select(\"indexedLabel\").collect()"
   ]
  },
  {
   "cell_type": "markdown",
   "id": "9aa06822-4836-47ea-8920-c8c729b4e120",
   "metadata": {},
   "source": [
    "# Predict on test"
   ]
  },
  {
   "cell_type": "code",
   "execution_count": 29,
   "id": "a8d59b3d-9b02-4228-9c4b-ec4a4fc0b8f1",
   "metadata": {},
   "outputs": [
    {
     "name": "stderr",
     "output_type": "stream",
     "text": [
      "                                                                                \r"
     ]
    }
   ],
   "source": [
    "prediction_test = model.transform(test_data)\n",
    "y_pred_test=prediction_test.select(\"prediction\").collect()\n",
    "y_orig_test=prediction_test.select(\"indexedLabel\").collect()"
   ]
  },
  {
   "cell_type": "markdown",
   "id": "ecbcd49a-b75e-4e58-b15d-cf443040e7f6",
   "metadata": {},
   "source": [
    "## Confusion matrix training"
   ]
  },
  {
   "cell_type": "code",
   "execution_count": 39,
   "id": "0138987c-6633-4f23-af8b-4c0a9708ea17",
   "metadata": {},
   "outputs": [],
   "source": [
    "from sklearn.metrics import confusion_matrix, ConfusionMatrixDisplay"
   ]
  },
  {
   "cell_type": "code",
   "execution_count": null,
   "id": "bd49a437-f418-449b-805d-9e791381e5d0",
   "metadata": {},
   "outputs": [],
   "source": [
    "cm_train = confusion_matrix(y_orig_train, y_pred_train)"
   ]
  },
  {
   "cell_type": "code",
   "execution_count": 62,
   "id": "9dc39033-3415-4225-827c-78e050efe97f",
   "metadata": {},
   "outputs": [
    {
     "data": {
      "image/png": "[encoded data removed]",
      "text/plain": [
       "<Figure size 432x288 with 2 Axes>"
      ]
     },
     "metadata": {
      "needs_background": "light"
     },
     "output_type": "display_data"
    }
   ],
   "source": [
    "import matplotlib.pyplot as plt\n",
    "disp = ConfusionMatrixDisplay(confusion_matrix=cm_train)\n",
    "disp.plot()\n",
    "\n",
    "plt.savefig('confusion_matrix_train.png')\n",
    "plt.show()\n"
   ]
  },
  {
   "cell_type": "markdown",
   "id": "1fcbd4cf-1e65-4e84-96d2-e7e0586e5872",
   "metadata": {},
   "source": [
    "# Confusion matrix test"
   ]
  },
  {
   "cell_type": "code",
   "execution_count": 63,
   "id": "0ea44a9f-bc3f-4700-8433-916e6eea3c6c",
   "metadata": {},
   "outputs": [
    {
     "data": {
      "image/png": "[encoded data removed]",
      "text/plain": [
       "<Figure size 432x288 with 2 Axes>"
      ]
     },
     "metadata": {
      "needs_background": "light"
     },
     "output_type": "display_data"
    }
   ],
   "source": [
    "cm_test = confusion_matrix(y_orig_test, y_pred_test)\n",
    "\n",
    "disp = ConfusionMatrixDisplay(confusion_matrix=cm_test)\n",
    "disp.plot()\n",
    "\n",
    "plt.savefig('confusion_matrix_test.png')\n",
    "plt.show()\n"
   ]
  },
  {
   "cell_type": "code",
   "execution_count": 49,
   "id": "0031dbcd-1b11-4d8d-b355-620a5bac3c26",
   "metadata": {},
   "outputs": [
    {
     "data": {
      "text/plain": [
       "[StringIndexerModel: uid=StringIndexer_919dee725947, handleInvalid=error,\n",
       " OneHotEncoderModel: uid=OneHotEncoder_5f4e32f6589e, dropLast=true, handleInvalid=error,\n",
       " StringIndexerModel: uid=StringIndexer_1b4ecdf44d48, handleInvalid=error,\n",
       " VectorAssembler_0e1a11f68fcb,\n",
       " GBTClassificationModel: uid = GBTClassifier_95fb482f933d, numTrees=20, numClasses=2, numFeatures=28,\n",
       " IndexToString_d0eb27c30aa8]"
      ]
     },
     "execution_count": 49,
     "metadata": {},
     "output_type": "execute_result"
    }
   ],
   "source": [
    "model.stages"
   ]
  },
  {
   "cell_type": "markdown",
   "id": "8d7163cc-3cce-4b8a-8083-a948d5a2f22e",
   "metadata": {},
   "source": [
    "### Feature Importance"
   ]
  },
  {
   "cell_type": "code",
   "execution_count": 50,
   "id": "cfd64727-dbd2-4d2d-9c99-4074c9de4230",
   "metadata": {},
   "outputs": [
    {
     "data": {
      "text/plain": [
       "[StringIndexerModel: uid=StringIndexer_919dee725947, handleInvalid=error,\n",
       " OneHotEncoderModel: uid=OneHotEncoder_5f4e32f6589e, dropLast=true, handleInvalid=error,\n",
       " StringIndexerModel: uid=StringIndexer_1b4ecdf44d48, handleInvalid=error,\n",
       " VectorAssembler_0e1a11f68fcb,\n",
       " GBTClassificationModel: uid = GBTClassifier_95fb482f933d, numTrees=20, numClasses=2, numFeatures=28,\n",
       " IndexToString_d0eb27c30aa8]"
      ]
     },
     "execution_count": 50,
     "metadata": {},
     "output_type": "execute_result"
    }
   ],
   "source": [
    "# Print out the stages of the best model\n",
    "model.stages"
   ]
  },
  {
   "cell_type": "code",
   "execution_count": 52,
   "id": "ccc0d071-e33b-4f27-b7d1-646b09e8c212",
   "metadata": {},
   "outputs": [],
   "source": [
    "# get the vector assembler\n",
    "va = model.stages[-3]\n",
    "# get the tree\n",
    "tree = model.stages[-2]\n",
    "\n",
    "fe = list(zip(va.getInputCols(), tree.featureImportances))"
   ]
  },
  {
   "cell_type": "code",
   "execution_count": 53,
   "id": "678a5a28-e74d-40d9-9f93-130dfddc2fe8",
   "metadata": {},
   "outputs": [
    {
     "data": {
      "text/plain": [
       "[('day_of_week_vec', 0.0),\n",
       " ('score', 0.0),\n",
       " ('log_age', 0.0),\n",
       " ('deleted_post', 0.0),\n",
       " ('neg_score', 0.0),\n",
       " ('diff_created', 0.0),\n",
       " ('has_flair', 0.01987071708663891),\n",
       " ('comment_length', 0.002878690852083281),\n",
       " ('flair_length', 0.15019984498533198),\n",
       " ('is_mod', 0.0),\n",
       " ('user_comments_in_thread', 0.0),\n",
       " ('user_score_in_thread', 0.02352039759588642),\n",
       " ('users_in_thread', 0.024391518880899677),\n",
       " ('thread_total_comments', 0.026315165234549454),\n",
       " ('can_gild', 4.6491821896243534e-05),\n",
       " ('can_mod_post', 0.29896794419363676),\n",
       " ('edited', 0.03809851345760095),\n",
       " ('stickied', 0.1465266400650838),\n",
       " ('locked', 0.269129056796844),\n",
       " ('gilded', 0.0),\n",
       " ('rm_body', 0.0),\n",
       " ('deleted_body', 5.5019029548509814e-05),\n",
       " ('send_replies', 0.0)]"
      ]
     },
     "execution_count": 53,
     "metadata": {},
     "output_type": "execute_result"
    }
   ],
   "source": [
    "fe"
   ]
  },
  {
   "cell_type": "code",
   "execution_count": 55,
   "id": "9185ad0b-81f9-4bae-9fd0-0633ca9ae778",
   "metadata": {},
   "outputs": [],
   "source": [
    "import pandas as pd\n",
    "fe = pd.DataFrame(fe, columns =['feature', 'importance'])"
   ]
  },
  {
   "cell_type": "code",
   "execution_count": 61,
   "id": "d6862c57-fbde-4dc1-90cb-de32b948ceff",
   "metadata": {},
   "outputs": [
    {
     "data": {
      "text/html": [
       "<div>\n",
       "<style scoped>\n",
       "    .dataframe tbody tr th:only-of-type {\n",
       "        vertical-align: middle;\n",
       "    }\n",
       "\n",
       "    .dataframe tbody tr th {\n",
       "        vertical-align: top;\n",
       "    }\n",
       "\n",
       "    .dataframe thead th {\n",
       "        text-align: right;\n",
       "    }\n",
       "</style>\n",
       "<table border=\"1\" class=\"dataframe\">\n",
       "  <thead>\n",
       "    <tr style=\"text-align: right;\">\n",
       "      <th></th>\n",
       "      <th>feature</th>\n",
       "      <th>importance</th>\n",
       "    </tr>\n",
       "  </thead>\n",
       "  <tbody>\n",
       "    <tr>\n",
       "      <th>15</th>\n",
       "      <td>can_mod_post</td>\n",
       "      <td>0.298968</td>\n",
       "    </tr>\n",
       "    <tr>\n",
       "      <th>18</th>\n",
       "      <td>locked</td>\n",
       "      <td>0.269129</td>\n",
       "    </tr>\n",
       "    <tr>\n",
       "      <th>8</th>\n",
       "      <td>flair_length</td>\n",
       "      <td>0.150200</td>\n",
       "    </tr>\n",
       "    <tr>\n",
       "      <th>17</th>\n",
       "      <td>stickied</td>\n",
       "      <td>0.146527</td>\n",
       "    </tr>\n",
       "    <tr>\n",
       "      <th>16</th>\n",
       "      <td>edited</td>\n",
       "      <td>0.038099</td>\n",
       "    </tr>\n",
       "    <tr>\n",
       "      <th>13</th>\n",
       "      <td>thread_total_comments</td>\n",
       "      <td>0.026315</td>\n",
       "    </tr>\n",
       "    <tr>\n",
       "      <th>12</th>\n",
       "      <td>users_in_thread</td>\n",
       "      <td>0.024392</td>\n",
       "    </tr>\n",
       "    <tr>\n",
       "      <th>11</th>\n",
       "      <td>user_score_in_thread</td>\n",
       "      <td>0.023520</td>\n",
       "    </tr>\n",
       "    <tr>\n",
       "      <th>6</th>\n",
       "      <td>has_flair</td>\n",
       "      <td>0.019871</td>\n",
       "    </tr>\n",
       "    <tr>\n",
       "      <th>7</th>\n",
       "      <td>comment_length</td>\n",
       "      <td>0.002879</td>\n",
       "    </tr>\n",
       "    <tr>\n",
       "      <th>21</th>\n",
       "      <td>deleted_body</td>\n",
       "      <td>0.000055</td>\n",
       "    </tr>\n",
       "    <tr>\n",
       "      <th>14</th>\n",
       "      <td>can_gild</td>\n",
       "      <td>0.000046</td>\n",
       "    </tr>\n",
       "    <tr>\n",
       "      <th>20</th>\n",
       "      <td>rm_body</td>\n",
       "      <td>0.000000</td>\n",
       "    </tr>\n",
       "    <tr>\n",
       "      <th>19</th>\n",
       "      <td>gilded</td>\n",
       "      <td>0.000000</td>\n",
       "    </tr>\n",
       "    <tr>\n",
       "      <th>0</th>\n",
       "      <td>day_of_week_vec</td>\n",
       "      <td>0.000000</td>\n",
       "    </tr>\n",
       "    <tr>\n",
       "      <th>1</th>\n",
       "      <td>score</td>\n",
       "      <td>0.000000</td>\n",
       "    </tr>\n",
       "    <tr>\n",
       "      <th>10</th>\n",
       "      <td>user_comments_in_thread</td>\n",
       "      <td>0.000000</td>\n",
       "    </tr>\n",
       "    <tr>\n",
       "      <th>9</th>\n",
       "      <td>is_mod</td>\n",
       "      <td>0.000000</td>\n",
       "    </tr>\n",
       "    <tr>\n",
       "      <th>5</th>\n",
       "      <td>diff_created</td>\n",
       "      <td>0.000000</td>\n",
       "    </tr>\n",
       "    <tr>\n",
       "      <th>4</th>\n",
       "      <td>neg_score</td>\n",
       "      <td>0.000000</td>\n",
       "    </tr>\n",
       "    <tr>\n",
       "      <th>3</th>\n",
       "      <td>deleted_post</td>\n",
       "      <td>0.000000</td>\n",
       "    </tr>\n",
       "    <tr>\n",
       "      <th>2</th>\n",
       "      <td>log_age</td>\n",
       "      <td>0.000000</td>\n",
       "    </tr>\n",
       "    <tr>\n",
       "      <th>22</th>\n",
       "      <td>send_replies</td>\n",
       "      <td>0.000000</td>\n",
       "    </tr>\n",
       "  </tbody>\n",
       "</table>\n",
       "</div>"
      ],
      "text/plain": [
       "                    feature  importance\n",
       "15             can_mod_post    0.298968\n",
       "18                   locked    0.269129\n",
       "8              flair_length    0.150200\n",
       "17                 stickied    0.146527\n",
       "16                   edited    0.038099\n",
       "13    thread_total_comments    0.026315\n",
       "12          users_in_thread    0.024392\n",
       "11     user_score_in_thread    0.023520\n",
       "6                 has_flair    0.019871\n",
       "7            comment_length    0.002879\n",
       "21             deleted_body    0.000055\n",
       "14                 can_gild    0.000046\n",
       "20                  rm_body    0.000000\n",
       "19                   gilded    0.000000\n",
       "0           day_of_week_vec    0.000000\n",
       "1                     score    0.000000\n",
       "10  user_comments_in_thread    0.000000\n",
       "9                    is_mod    0.000000\n",
       "5              diff_created    0.000000\n",
       "4                 neg_score    0.000000\n",
       "3              deleted_post    0.000000\n",
       "2                   log_age    0.000000\n",
       "22             send_replies    0.000000"
      ]
     },
     "execution_count": 61,
     "metadata": {},
     "output_type": "execute_result"
    }
   ],
   "source": [
    "fe.sort_values(by='importance', ascending=False)"
   ]
  },
  {
   "cell_type": "code",
   "execution_count": 65,
   "id": "4647d551-8e96-4169-95b5-6dc6f77eac11",
   "metadata": {},
   "outputs": [
    {
     "data": {
      "text/plain": [
       "GBTClassificationModel: uid = GBTClassifier_95fb482f933d, numTrees=20, numClasses=2, numFeatures=28"
      ]
     },
     "metadata": {},
     "output_type": "display_data"
    }
   ],
   "source": [
    "display(tree)"
   ]
  },
  {
   "cell_type": "code",
   "execution_count": null,
   "id": "e85ca6b6-4ca1-4775-84bd-c16d5e84abdf",
   "metadata": {},
   "outputs": [],
   "source": []
  },
  {
   "cell_type": "code",
   "execution_count": 44,
   "id": "dcc70a4f-cfd4-4f70-9737-e0b272f6a2ee",
   "metadata": {},
   "outputs": [],
   "source": [
    "spark.stop()"
   ]
  },
  {
   "cell_type": "code",
   "execution_count": null,
   "id": "14882f2f-2440-4751-860b-6c636bdf85c3",
   "metadata": {},
   "outputs": [],
   "source": []
  }
 ],
 "metadata": {
  "kernelspec": {
   "display_name": "Python 3 (ipykernel)",
   "language": "python",
   "name": "python3"
  },
  "language_info": {
   "codemirror_mode": {
    "name": "ipython",
    "version": 3
   },
   "file_extension": ".py",
   "mimetype": "text/x-python",
   "name": "python",
   "nbconvert_exporter": "python",
   "pygments_lexer": "ipython3",
   "version": "3.7.11"
  }
 },
 "nbformat": 4,
 "nbformat_minor": 5
}
