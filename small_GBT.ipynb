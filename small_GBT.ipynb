{
 "cells": [
  {
   "cell_type": "code",
   "execution_count": 1,
   "id": "752cdd19-f8e9-440e-8c1b-66813d4d44e0",
   "metadata": {},
   "outputs": [],
   "source": [
    "import findspark\n",
    "findspark.init()"
   ]
  },
  {
   "cell_type": "code",
   "execution_count": 2,
   "id": "2c77c95a-37b6-49ff-a605-26ba04e6808e",
   "metadata": {},
   "outputs": [],
   "source": [
    "import pyspark.sql.functions as f\n",
    "from pyspark.sql.functions import col, lit\n",
    "from pyspark.sql import SparkSession\n",
    "\n",
    "import seaborn as sns"
   ]
  },
  {
   "cell_type": "code",
   "execution_count": 3,
   "id": "0b79dd1e-b1ef-43c4-98fa-3f4765e6242a",
   "metadata": {},
   "outputs": [
    {
     "name": "stderr",
     "output_type": "stream",
     "text": [
      "Setting default log level to \"WARN\".\n",
      "To adjust logging level use sc.setLogLevel(newLevel). For SparkR, use setLogLevel(newLevel).\n",
      "22/05/03 01:13:47 WARN Utils: Service 'SparkUI' could not bind on port 4040. Attempting port 4041.\n",
      "22/05/03 01:13:50 WARN Client: Neither spark.yarn.jars nor spark.yarn.archive is set, falling back to uploading libraries under SPARK_HOME.\n"
     ]
    }
   ],
   "source": [
    "spark = SparkSession.builder.appName(\"reddit\").getOrCreate()"
   ]
  },
  {
   "cell_type": "code",
   "execution_count": 4,
   "id": "93ef9382-f0d7-4645-b1aa-9d080910f1ff",
   "metadata": {},
   "outputs": [
    {
     "data": {
      "text/html": [
       "\n",
       "            <div>\n",
       "                <p><b>SparkSession - in-memory</b></p>\n",
       "                \n",
       "        <div>\n",
       "            <p><b>SparkContext</b></p>\n",
       "\n",
       "            <p><a href=\"http://ip-172-31-7-126.ec2.internal:4041\">Spark UI</a></p>\n",
       "\n",
       "            <dl>\n",
       "              <dt>Version</dt>\n",
       "                <dd><code>v3.0.0-amzn-0</code></dd>\n",
       "              <dt>Master</dt>\n",
       "                <dd><code>yarn</code></dd>\n",
       "              <dt>AppName</dt>\n",
       "                <dd><code>reddit</code></dd>\n",
       "            </dl>\n",
       "        </div>\n",
       "        \n",
       "            </div>\n",
       "        "
      ],
      "text/plain": [
       "<pyspark.sql.session.SparkSession at 0x7f3ef1ab9290>"
      ]
     },
     "execution_count": 4,
     "metadata": {},
     "output_type": "execute_result"
    }
   ],
   "source": [
    "spark"
   ]
  },
  {
   "cell_type": "code",
   "execution_count": 151,
   "id": "db70af6a-66e6-4eeb-be9a-8524ecd6be1c",
   "metadata": {},
   "outputs": [],
   "source": [
    "df = spark.read.parquet('s3://cn490-project/reddit/ym_partition=202106')"
   ]
  },
  {
   "cell_type": "markdown",
   "id": "f7d72b2a-ada2-47e5-b41a-b8110ef3ce60",
   "metadata": {},
   "source": [
    "# Clean data"
   ]
  },
  {
   "cell_type": "markdown",
   "id": "a8af5132-7d8b-4cd6-bef6-08b68d83dad2",
   "metadata": {},
   "source": [
    "### Timestamps"
   ]
  },
  {
   "cell_type": "code",
   "execution_count": 152,
   "id": "519f2f34-8746-48e2-817f-9097a52ebc4a",
   "metadata": {},
   "outputs": [],
   "source": [
    "from pyspark.sql.functions import *\n",
    "import pyspark.sql.functions as F\n",
    "from pyspark.sql import Window\n",
    "from pyspark.sql.types import IntegerType\n",
    "\n",
    "df = df.withColumn(\"created_utc_ts\", from_unixtime(col(\"created_utc\"),\"MM-dd-yyyy HH:mm:ss\")) \\\n",
    "    .withColumn(\"author_created_utc_ts\", from_unixtime(col(\"author_created_utc\"),\"MM-dd-yyyy HH:mm:ss\")) \\"
   ]
  },
  {
   "cell_type": "code",
   "execution_count": 153,
   "id": "129fe95d-2532-4b29-808c-ed5934142f52",
   "metadata": {},
   "outputs": [],
   "source": [
    "# Get Date\n",
    "df = df.withColumn(\"created_date\", to_date(to_timestamp(\"created_utc_ts\",'MM-dd-yyyy HH:mm:ss'))) \\\n",
    "        .withColumn(\"author_created_date\", to_date(to_timestamp(\"author_created_utc_ts\",'MM-dd-yyyy HH:mm:ss'))) \\"
   ]
  },
  {
   "cell_type": "code",
   "execution_count": 154,
   "id": "2346f6d2-64de-49e0-ba88-3860fffab0a5",
   "metadata": {},
   "outputs": [],
   "source": [
    "# Get Time\n",
    "df = df.withColumn(\"created_time\", date_format(to_timestamp(\"created_utc_ts\",'MM-dd-yyyy HH:mm:ss'), 'HH:mm:ss')) \\\n",
    "    .withColumn(\"author_created_time\", date_format(to_timestamp(\"author_created_utc_ts\",'MM-dd-yyyy HH:mm:ss'), 'HH:mm:ss')) \\"
   ]
  },
  {
   "cell_type": "code",
   "execution_count": 155,
   "id": "878a0e0b-6755-49c9-98fd-d9c6d38e8192",
   "metadata": {},
   "outputs": [],
   "source": [
    "# Get Hour\n",
    "df = df.withColumn(\"created_hour\", hour(to_timestamp(\"created_utc_ts\",'MM-dd-yyyy HH:mm:ss'))) \\\n",
    "        .withColumn(\"author_created_hour\", hour(to_timestamp(\"author_created_utc_ts\",'MM-dd-yyyy HH:mm:ss')))"
   ]
  },
  {
   "cell_type": "markdown",
   "id": "ade4cc22-b3e4-476e-8088-b8957fc9f796",
   "metadata": {},
   "source": [
    "### Feature engineering"
   ]
  },
  {
   "cell_type": "code",
   "execution_count": 156,
   "id": "0d2482b4-3600-4c6f-b395-190e0da1453a",
   "metadata": {},
   "outputs": [],
   "source": [
    "# Account age in days\n",
    "df = df.withColumn(\"acc_age_days\", (col(\"created_utc\") - col(\"author_created_utc\"))/86400)\n",
    "\n",
    "# Log transform\n",
    "df = df.withColumn(\"log_age\", log(df.acc_age_days+1)).fillna(0,subset=['log_age'])"
   ]
  },
  {
   "cell_type": "code",
   "execution_count": 157,
   "id": "e737afa0-c392-4b27-8c9d-26264015e6f2",
   "metadata": {},
   "outputs": [],
   "source": [
    "# Account created hour minus post created hour \n",
    "df = df.withColumn(\"diff_created\", pow(col(\"created_hour\")-col(\"author_created_hour\"),2)).fillna(-1, subset=['diff_created'])"
   ]
  },
  {
   "cell_type": "code",
   "execution_count": 158,
   "id": "346c31b8-0207-4a23-8320-e7c6afbf6b81",
   "metadata": {},
   "outputs": [],
   "source": [
    "# Removed body\n",
    "df = df.withColumn(\"rm_body\", F.when(col(\"body\")==\"[removed]\",True).otherwise(False))\n",
    "# Deleted Body\n",
    "df = df.withColumn(\"deleted_body\", F.when(col(\"body\")==\"[deleted]\",True).otherwise(False))\n",
    "\n",
    "# Negative score\n",
    "df = df.withColumn(\"neg_score\", F.when(col(\"score\") < 0, True).otherwise(False))\n",
    "\n",
    "# Post got deleted\n",
    "df = df.withColumn(\"deleted_post\", F.when(col(\"author\")==\"[deleted]\",True).otherwise(False))\n",
    "\n",
    "# Comment collapsed because low score\n",
    "df = df.withColumn(\"low_score\", F.when(col(\"collapsed_reason\").isNotNull(),True).otherwise(False))\n",
    "\n",
    "# Has flair\n",
    "df = df.withColumn(\"has_flair\", F.when(col(\"author_flair_text\").isNotNull(),True).otherwise(False))\n",
    "\n",
    "# Is moderator\n",
    "df = df.withColumn(\"is_mod\", F.when(col(\"distinguished\")=='moderator',True).otherwise(False))"
   ]
  },
  {
   "cell_type": "code",
   "execution_count": 159,
   "id": "3b5d685b-1759-4c7f-822c-5e1b3a3de13a",
   "metadata": {},
   "outputs": [],
   "source": [
    "# Day of week and posted on weekend\n",
    "df = df.withColumn('day_of_week', date_format(\"created_date\", \"EEEE\")) \\\n",
    "        .withColumn(\"posted_on_weekend\", \n",
    "                F.when(\n",
    "                    (date_format(\"created_date\", \"EEEE\") =='Sunday')| \\\n",
    "                    (date_format(\"created_date\", \"EEEE\") =='Saturday') \\\n",
    "                     ,1).otherwise(0)) \n"
   ]
  },
  {
   "cell_type": "code",
   "execution_count": 160,
   "id": "4872851b-e625-42cd-bc01-f4bf40396591",
   "metadata": {},
   "outputs": [],
   "source": [
    "df = df.fillna({'edited':False})\n",
    "\n",
    "# Recast boolean to integer\n",
    "df = df.withColumn('is_submitter', df.is_submitter.cast(IntegerType())) \\\n",
    "        .withColumn('deleted_post', df.deleted_post.cast(IntegerType())) \\\n",
    "        .withColumn('neg_score', df.neg_score.cast(IntegerType())) \\\n",
    "        .withColumn('has_flair', df.has_flair.cast(IntegerType())) \\\n",
    "        .withColumn('locked', df.locked.cast(IntegerType())) \\\n",
    "        .withColumn('can_gild', df.can_gild.cast(IntegerType())) \\\n",
    "        .withColumn('can_mod_post', df.can_mod_post.cast(IntegerType())) \\\n",
    "        .withColumn('edited', df.edited.cast(IntegerType())) \\\n",
    "        .withColumn('stickied', df.stickied.cast(IntegerType())) \\\n",
    "        .withColumn('gilded', df.gilded.cast(IntegerType())) \\\n",
    "        .withColumn('low_score', df.low_score.cast(IntegerType())) \\\n",
    "        .withColumn('send_replies', df.send_replies.cast(IntegerType())) \\\n",
    "        .withColumn('rm_body', df.rm_body.cast(IntegerType())) \\\n",
    "        .withColumn('deleted_body', df.deleted_body.cast(IntegerType())) "
   ]
  },
  {
   "cell_type": "code",
   "execution_count": 161,
   "id": "a6a3cf5c-507f-48f0-b3ed-6de6550434ee",
   "metadata": {},
   "outputs": [],
   "source": [
    "# Number of comments by same author in thread\n",
    "df = df.withColumn('user_comments_in_thread', F.count('id').over(Window.partitionBy('link_id', 'author')))\n",
    "\n",
    "# Total score by same author in thread\n",
    "df = df.withColumn('user_score_in_thread', F.sum('score').over(Window.partitionBy('link_id', 'author')))\n",
    "\n",
    "# Number of total comments in thread\n",
    "df = df.withColumn('thread_total_comments', F.count('id').over(Window.partitionBy('link_id')))"
   ]
  },
  {
   "cell_type": "code",
   "execution_count": 162,
   "id": "b8884f83-e4b9-4a8e-bb97-e7246f71c51a",
   "metadata": {},
   "outputs": [],
   "source": [
    "# Number of distinct users in thread\n",
    "\n",
    "df = df.withColumn('users_in_thread', F.approx_count_distinct('author').over(Window.partitionBy('link_id')))"
   ]
  },
  {
   "cell_type": "markdown",
   "id": "6a92bc4c-c364-43f8-9201-428e977b8aae",
   "metadata": {},
   "source": [
    "### Tokenize text columns"
   ]
  },
  {
   "cell_type": "code",
   "execution_count": 163,
   "id": "bd7f0e78-ed21-400e-a76a-42505afc171c",
   "metadata": {},
   "outputs": [],
   "source": [
    "from pyspark.ml.feature import Tokenizer, RegexTokenizer\n",
    "from pyspark.sql.functions import col, udf\n",
    "from pyspark.sql.types import IntegerType\n",
    "\n",
    "tokenizer = Tokenizer(inputCol=\"body\", outputCol=\"tokenized_body\")\n",
    "\n",
    "countTokens = udf(lambda words: len(words), IntegerType())\n",
    "df = tokenizer.transform(df)"
   ]
  },
  {
   "cell_type": "code",
   "execution_count": 164,
   "id": "762f1125-9a6e-4e9f-bd9a-e3ececf4e5bb",
   "metadata": {},
   "outputs": [],
   "source": [
    "df = df.withColumn(\"comment_length\", countTokens(col(\"tokenized_body\"))) "
   ]
  },
  {
   "cell_type": "code",
   "execution_count": 165,
   "id": "4325ed66-ff15-428e-8ad3-081072527cb2",
   "metadata": {},
   "outputs": [],
   "source": [
    "# replace null with empty string\n",
    "df = df.fillna({'author_flair_text':\" \"})\n",
    "\n",
    "flair_tokenizer = Tokenizer(inputCol=\"author_flair_text\", outputCol=\"tokenized_flair\")\n",
    "df = flair_tokenizer.transform(df)"
   ]
  },
  {
   "cell_type": "code",
   "execution_count": 166,
   "id": "4fbfafac-993f-4e6e-9c82-2587b5377197",
   "metadata": {},
   "outputs": [],
   "source": [
    "df = df.withColumn(\"flair_length\", size(col(\"tokenized_flair\")))"
   ]
  },
  {
   "cell_type": "markdown",
   "id": "23e06dd1-6815-4002-807e-9d7db50ac511",
   "metadata": {},
   "source": [
    "# Model"
   ]
  },
  {
   "cell_type": "markdown",
   "id": "25e99b65-8fe3-4621-9a41-4433f43599d8",
   "metadata": {},
   "source": [
    "## Classifier for deleted post"
   ]
  },
  {
   "cell_type": "code",
   "execution_count": 170,
   "id": "ac5e59e2-0750-43fd-b842-9c4200c52413",
   "metadata": {},
   "outputs": [],
   "source": [
    "data = df.select('is_submitter',\n",
    "                 'day_of_week',\n",
    "                 'score','log_age',\n",
    "                 'deleted_post','neg_score','diff_created',\n",
    "                 'has_flair','comment_length','flair_length','is_mod',\n",
    "                 'user_comments_in_thread','user_score_in_thread','users_in_thread','thread_total_comments',\n",
    "                 'can_gild','can_mod_post','edited','stickied','locked','gilded',\n",
    "                 'rm_body','deleted_body','send_replies'\n",
    "                )\n",
    "\n",
    "data.createOrReplaceTempView(\"data\")"
   ]
  },
  {
   "cell_type": "code",
   "execution_count": 172,
   "id": "1de67226-9172-494f-b743-415e57a27f8c",
   "metadata": {},
   "outputs": [
    {
     "name": "stdout",
     "output_type": "stream",
     "text": [
      "root\n",
      " |-- is_submitter: integer (nullable = true)\n",
      " |-- day_of_week: string (nullable = true)\n",
      " |-- score: long (nullable = true)\n",
      " |-- log_age: double (nullable = false)\n",
      " |-- deleted_post: integer (nullable = false)\n",
      " |-- neg_score: integer (nullable = false)\n",
      " |-- diff_created: double (nullable = false)\n",
      " |-- has_flair: integer (nullable = false)\n",
      " |-- comment_length: integer (nullable = true)\n",
      " |-- flair_length: integer (nullable = false)\n",
      " |-- is_mod: boolean (nullable = false)\n",
      " |-- user_comments_in_thread: long (nullable = false)\n",
      " |-- user_score_in_thread: long (nullable = true)\n",
      " |-- users_in_thread: long (nullable = false)\n",
      " |-- thread_total_comments: long (nullable = false)\n",
      " |-- can_gild: integer (nullable = true)\n",
      " |-- can_mod_post: integer (nullable = true)\n",
      " |-- edited: integer (nullable = true)\n",
      " |-- stickied: integer (nullable = true)\n",
      " |-- locked: integer (nullable = true)\n",
      " |-- gilded: integer (nullable = true)\n",
      " |-- rm_body: integer (nullable = false)\n",
      " |-- deleted_body: integer (nullable = false)\n",
      " |-- send_replies: integer (nullable = true)\n",
      "\n"
     ]
    }
   ],
   "source": [
    "data.printSchema()"
   ]
  },
  {
   "cell_type": "code",
   "execution_count": 173,
   "id": "1a82daed-7b14-42ee-8c49-55d705b79264",
   "metadata": {},
   "outputs": [
    {
     "name": "stderr",
     "output_type": "stream",
     "text": [
      "                                                                                \r"
     ]
    },
    {
     "name": "stdout",
     "output_type": "stream",
     "text": [
      "Number of training records: 260670\n"
     ]
    },
    {
     "name": "stderr",
     "output_type": "stream",
     "text": [
      "[Stage 12230:====================================>                (18 + 8) / 26]\r"
     ]
    },
    {
     "name": "stdout",
     "output_type": "stream",
     "text": [
      "Number of testing records : 65305\n"
     ]
    },
    {
     "name": "stderr",
     "output_type": "stream",
     "text": [
      "                                                                                \r"
     ]
    }
   ],
   "source": [
    "train_data, test_data = data.randomSplit([0.8, 0.2], seed=42)\n",
    "print(\"Number of training records: \" + str(train_data.count()))\n",
    "print(\"Number of testing records : \" + str(test_data.count()))"
   ]
  },
  {
   "cell_type": "code",
   "execution_count": 174,
   "id": "a3a99e63-8f1b-49d4-9dd4-ffc25a000798",
   "metadata": {},
   "outputs": [],
   "source": [
    "from pyspark.ml.feature import OneHotEncoder,VectorAssembler, StringIndexer, IndexToString, MinMaxScaler, VectorIndexer\n",
    "from pyspark.ml.classification import RandomForestClassifier\n",
    "from pyspark.ml.classification import GBTClassifier\n",
    "from pyspark.ml.evaluation import BinaryClassificationEvaluator, MulticlassClassificationEvaluator\n",
    "from pyspark.mllib.evaluation import BinaryClassificationMetrics\n",
    "from pyspark.ml import Pipeline, Model\n",
    "from pyspark.ml.tuning import CrossValidator, ParamGridBuilder"
   ]
  },
  {
   "cell_type": "code",
   "execution_count": 175,
   "id": "a061d8f3-23de-4cd7-be84-02a9f59ec6a8",
   "metadata": {},
   "outputs": [],
   "source": [
    "stringIndexer_day = StringIndexer(inputCol=\"day_of_week\", outputCol=\"day_of_week_ix\")\n",
    "onehot_day = OneHotEncoder(inputCol=\"day_of_week_ix\", outputCol=\"day_of_week_vec\")\n"
   ]
  },
  {
   "cell_type": "code",
   "execution_count": 176,
   "id": "40e05c56-fe15-4ee3-9e1d-6b1fcbedb47e",
   "metadata": {},
   "outputs": [],
   "source": [
    "labelIndexer = StringIndexer(inputCol=\"is_submitter\", outputCol=\"indexedLabel\")"
   ]
  },
  {
   "cell_type": "code",
   "execution_count": 177,
   "id": "fb2fb59b-e513-4135-8b79-1a2fe761f711",
   "metadata": {},
   "outputs": [],
   "source": [
    "vectorAssembler_features =VectorAssembler(\n",
    "    inputCols=['day_of_week_vec',\n",
    "               'score','log_age',\n",
    "               'deleted_post','neg_score','diff_created',\n",
    "               'has_flair','comment_length','flair_length','is_mod',\n",
    "               'user_comments_in_thread','user_score_in_thread','users_in_thread','thread_total_comments',\n",
    "               'can_gild','can_mod_post','edited','stickied','locked','gilded',\n",
    "               'rm_body','deleted_body','send_replies'],\n",
    "               outputCol=\"features\")"
   ]
  },
  {
   "cell_type": "code",
   "execution_count": 178,
   "id": "07a2c5ef-3f58-47f5-aa46-dcaad84867a6",
   "metadata": {},
   "outputs": [],
   "source": [
    "gbt = GBTClassifier(labelCol=\"indexedLabel\", featuresCol=\"features\", maxIter=20, seed=42)"
   ]
  },
  {
   "cell_type": "code",
   "execution_count": 179,
   "id": "f8bf7f5f-6c0e-4570-9f80-4252c33e45d9",
   "metadata": {},
   "outputs": [],
   "source": [
    "# Convert indexed labels back to original labels.\n",
    "labelConverter = IndexToString(inputCol=\"prediction\", outputCol=\"predictedLabel\",\n",
    "                               labels=labelIndexer.fit(data).labels)"
   ]
  },
  {
   "cell_type": "code",
   "execution_count": 180,
   "id": "b655de0d-e1e4-400d-a53e-65005c1d9749",
   "metadata": {},
   "outputs": [],
   "source": [
    "# Pipeline\n",
    "pipeline_gbt = Pipeline(stages=[stringIndexer_day,\n",
    "                               onehot_day,\n",
    "                               labelIndexer,\n",
    "                               vectorAssembler_features,\n",
    "                               gbt, labelConverter])"
   ]
  },
  {
   "cell_type": "code",
   "execution_count": 181,
   "id": "733b51cf-9df1-42ca-8f26-929db223cf8c",
   "metadata": {},
   "outputs": [],
   "source": [
    "# Tune the learning rate\n",
    "paramGrid = ParamGridBuilder() \\\n",
    "    .addGrid(gbt.stepSize, [0.001,0.01,0.1]) \\\n",
    "    .build() \n"
   ]
  },
  {
   "cell_type": "code",
   "execution_count": 182,
   "id": "dd26a03e-42cf-4d68-aced-a2032d7b4be4",
   "metadata": {},
   "outputs": [],
   "source": [
    "# Build the evaluator\n",
    "evaluator = MulticlassClassificationEvaluator(\n",
    "    labelCol=\"indexedLabel\", predictionCol=\"prediction\", metricName=\"weightedFMeasure\", metricLabel=1.0, beta = 2.0)"
   ]
  },
  {
   "cell_type": "code",
   "execution_count": 183,
   "id": "d0c88271-199b-4f36-b932-5133464fe372",
   "metadata": {},
   "outputs": [],
   "source": [
    "# Cross validation with 5 folds\n",
    "crossval = CrossValidator(estimator=pipeline_gbt,\n",
    "                          estimatorParamMaps=paramGrid,\n",
    "                          evaluator=evaluator,\n",
    "                          numFolds=5)"
   ]
  },
  {
   "cell_type": "markdown",
   "id": "0556c7bd-8830-47bd-a071-4445b65afebe",
   "metadata": {},
   "source": [
    "# Train model"
   ]
  },
  {
   "cell_type": "code",
   "execution_count": 184,
   "id": "f9b7ceef-fa92-4c73-87a9-25b5dfc14161",
   "metadata": {},
   "outputs": [
    {
     "name": "stderr",
     "output_type": "stream",
     "text": [
      "22/05/03 02:40:30 WARN BlockManager: Asked to remove block broadcast_15131, which does not exist\n",
      "                                                                                \r"
     ]
    }
   ],
   "source": [
    "# CV on train data\n",
    "cvModel = crossval.fit(train_data)"
   ]
  },
  {
   "cell_type": "markdown",
   "id": "0e6abf4a-3412-4fa0-9f8a-577a717ea979",
   "metadata": {},
   "source": [
    "### Predict on train data"
   ]
  },
  {
   "cell_type": "code",
   "execution_count": 185,
   "id": "e84de1b8-c1e3-46b3-874e-23591facee22",
   "metadata": {},
   "outputs": [],
   "source": [
    "prediction_train = cvModel.transform(train_data)"
   ]
  },
  {
   "cell_type": "code",
   "execution_count": 189,
   "id": "e6ec4fd9-a744-4b78-bb60-bc1ff2fab386",
   "metadata": {},
   "outputs": [
    {
     "name": "stderr",
     "output_type": "stream",
     "text": [
      "                                                                                \r"
     ]
    },
    {
     "name": "stdout",
     "output_type": "stream",
     "text": [
      "F-2 score:  0.9286666560590882 \n",
      "\n"
     ]
    },
    {
     "name": "stderr",
     "output_type": "stream",
     "text": [
      "                                                                                \r"
     ]
    },
    {
     "name": "stdout",
     "output_type": "stream",
     "text": [
      "Weighted Precision:  0.9263207547203822 \n",
      "\n"
     ]
    },
    {
     "name": "stderr",
     "output_type": "stream",
     "text": [
      "                                                                                \r"
     ]
    },
    {
     "name": "stdout",
     "output_type": "stream",
     "text": [
      "Weighted Recall:  0.9300057438253877 \n",
      " \n",
      " \n",
      "\n"
     ]
    },
    {
     "name": "stderr",
     "output_type": "stream",
     "text": [
      "                                                                                \r"
     ]
    },
    {
     "name": "stdout",
     "output_type": "stream",
     "text": [
      "F-1 Score:  0.9271786498585414 \n",
      "\n"
     ]
    },
    {
     "name": "stderr",
     "output_type": "stream",
     "text": [
      "                                                                                \r"
     ]
    },
    {
     "name": "stdout",
     "output_type": "stream",
     "text": [
      "Precision:  0.786638005755296 \n",
      "\n"
     ]
    },
    {
     "name": "stderr",
     "output_type": "stream",
     "text": [
      "[Stage 17384:===================================>              (143 + 28) / 200]\r"
     ]
    },
    {
     "name": "stdout",
     "output_type": "stream",
     "text": [
      "Recall:  0.6517205721836044 \n",
      "\n"
     ]
    },
    {
     "name": "stderr",
     "output_type": "stream",
     "text": [
      "                                                                                \r"
     ]
    }
   ],
   "source": [
    "# Print out scores\n",
    "print(\"F-2 score: \", evaluator.evaluate(prediction_train,  {evaluator.metricName: \"weightedFMeasure\"}), \"\\n\")\n",
    "print(\"Weighted Precision: \", evaluator.evaluate(prediction_train,  {evaluator.metricName: \"weightedPrecision\"}), \"\\n\")\n",
    "print(\"Weighted Recall: \", evaluator.evaluate(prediction_train,  {evaluator.metricName: \"weightedRecall\"}), \"\\n\",\"\\n\",\"\\n\")\n",
    "\n",
    "\n",
    "print(\"F-1 Score: \", evaluator.evaluate(prediction_train,  {evaluator.metricName: \"f1\"}), \"\\n\")\n",
    "print(\"Precision: \", evaluator.evaluate(prediction_train,  {evaluator.metricName: \"precisionByLabel\"}), \"\\n\")\n",
    "print(\"Recall: \",evaluator.evaluate(prediction_train,  {evaluator.metricName: \"recallByLabel\"}), \"\\n\")"
   ]
  },
  {
   "cell_type": "markdown",
   "id": "bfe6e766-cf59-476e-abf4-011e4b868ff6",
   "metadata": {},
   "source": [
    "### Predict on test data"
   ]
  },
  {
   "cell_type": "code",
   "execution_count": 190,
   "id": "0e81ae51-12a0-4923-ada9-e5ae195c2222",
   "metadata": {},
   "outputs": [],
   "source": [
    "prediction = cvModel.transform(test_data)"
   ]
  },
  {
   "cell_type": "code",
   "execution_count": 191,
   "id": "501c361a-aef7-42af-8492-4340af948f06",
   "metadata": {},
   "outputs": [
    {
     "name": "stderr",
     "output_type": "stream",
     "text": [
      "                                                                                \r"
     ]
    },
    {
     "name": "stdout",
     "output_type": "stream",
     "text": [
      "F-2 score:  0.926080355158036 \n",
      "\n"
     ]
    },
    {
     "name": "stderr",
     "output_type": "stream",
     "text": [
      "                                                                                \r"
     ]
    },
    {
     "name": "stdout",
     "output_type": "stream",
     "text": [
      "Weighted Precision:  0.9235119050585092 \n",
      "\n"
     ]
    },
    {
     "name": "stderr",
     "output_type": "stream",
     "text": [
      "                                                                                \r"
     ]
    },
    {
     "name": "stdout",
     "output_type": "stream",
     "text": [
      "Weighted Recall:  0.9274971075973776 \n",
      " \n",
      " \n",
      "\n"
     ]
    },
    {
     "name": "stderr",
     "output_type": "stream",
     "text": [
      "                                                                                \r"
     ]
    },
    {
     "name": "stdout",
     "output_type": "stream",
     "text": [
      "F-1 Score:  0.9244899814995238 \n",
      "\n"
     ]
    },
    {
     "name": "stderr",
     "output_type": "stream",
     "text": [
      "                                                                                \r"
     ]
    },
    {
     "name": "stdout",
     "output_type": "stream",
     "text": [
      "Precision:  0.7751304102636402 \n",
      "\n"
     ]
    },
    {
     "name": "stderr",
     "output_type": "stream",
     "text": [
      "[Stage 17402:=========================================>        (165 + 29) / 200]\r"
     ]
    },
    {
     "name": "stdout",
     "output_type": "stream",
     "text": [
      "Recall:  0.6390793909101476 \n",
      "\n"
     ]
    },
    {
     "name": "stderr",
     "output_type": "stream",
     "text": [
      "                                                                                \r"
     ]
    }
   ],
   "source": [
    "# Print out scores\n",
    "print(\"F-2 score: \", evaluator.evaluate(prediction,  {evaluator.metricName: \"weightedFMeasure\"}), \"\\n\")\n",
    "print(\"Weighted Precision: \", evaluator.evaluate(prediction,  {evaluator.metricName: \"weightedPrecision\"}), \"\\n\")\n",
    "print(\"Weighted Recall: \", evaluator.evaluate(prediction,  {evaluator.metricName: \"weightedRecall\"}), \"\\n\",\"\\n\",\"\\n\")\n",
    "\n",
    "\n",
    "print(\"F-1 Score: \", evaluator.evaluate(prediction,  {evaluator.metricName: \"f1\"}), \"\\n\")\n",
    "print(\"Precision: \", evaluator.evaluate(prediction,  {evaluator.metricName: \"precisionByLabel\"}), \"\\n\")\n",
    "print(\"Recall: \",evaluator.evaluate(prediction,  {evaluator.metricName: \"recallByLabel\"}), \"\\n\")"
   ]
  },
  {
   "cell_type": "code",
   "execution_count": 192,
   "id": "039e93ba-a7b1-413d-9871-9053260099a9",
   "metadata": {},
   "outputs": [
    {
     "data": {
      "text/plain": [
       "True"
      ]
     },
     "execution_count": 192,
     "metadata": {},
     "output_type": "execute_result"
    }
   ],
   "source": [
    "evaluator.isLargerBetter()"
   ]
  },
  {
   "cell_type": "markdown",
   "id": "8d7163cc-3cce-4b8a-8083-a948d5a2f22e",
   "metadata": {},
   "source": [
    "### Feature Importance"
   ]
  },
  {
   "cell_type": "code",
   "execution_count": 193,
   "id": "cfd64727-dbd2-4d2d-9c99-4074c9de4230",
   "metadata": {},
   "outputs": [
    {
     "data": {
      "text/plain": [
       "[StringIndexerModel: uid=StringIndexer_ab9d2d246f56, handleInvalid=error,\n",
       " OneHotEncoderModel: uid=OneHotEncoder_3018d2040cc3, dropLast=true, handleInvalid=error,\n",
       " StringIndexerModel: uid=StringIndexer_0b20d132e019, handleInvalid=error,\n",
       " VectorAssembler_bdc03cd2938d,\n",
       " GBTClassificationModel: uid = GBTClassifier_543f140c01a7, numTrees=20, numClasses=2, numFeatures=28,\n",
       " IndexToString_01ed38c8a743]"
      ]
     },
     "execution_count": 193,
     "metadata": {},
     "output_type": "execute_result"
    }
   ],
   "source": [
    "# Print out the stages of the best model\n",
    "cvModel.bestModel.stages"
   ]
  },
  {
   "cell_type": "code",
   "execution_count": 194,
   "id": "ccc0d071-e33b-4f27-b7d1-646b09e8c212",
   "metadata": {},
   "outputs": [
    {
     "data": {
      "text/plain": [
       "[('day_of_week_vec', 0.0),\n",
       " ('score', 0.00031662353954156017),\n",
       " ('log_age', 2.106649406499217e-05),\n",
       " ('deleted_post', 0.0),\n",
       " ('neg_score', 0.0),\n",
       " ('diff_created', 0.0),\n",
       " ('has_flair', 0.02561544625895525),\n",
       " ('comment_length', 0.10782892774386349),\n",
       " ('flair_length', 0.031015483417720535),\n",
       " ('is_mod', 0.0),\n",
       " ('user_comments_in_thread', 0.009897865269599607),\n",
       " ('user_score_in_thread', 0.0219226793591167),\n",
       " ('users_in_thread', 0.03074720662993639),\n",
       " ('thread_total_comments', 0.02092841363957716),\n",
       " ('can_gild', 0.0012807442970613416),\n",
       " ('can_mod_post', 0.31203774088523223),\n",
       " ('edited', 0.05566625350984668),\n",
       " ('stickied', 0.07808590541612836),\n",
       " ('locked', 0.30463564353935574),\n",
       " ('gilded', 0.0),\n",
       " ('rm_body', 0.0),\n",
       " ('deleted_body', 0.0),\n",
       " ('send_replies', 0.0)]"
      ]
     },
     "execution_count": 194,
     "metadata": {},
     "output_type": "execute_result"
    }
   ],
   "source": [
    "# get the vector assembler\n",
    "va = cvModel.bestModel.stages[-3]\n",
    "# get the tree\n",
    "tree = cvModel.bestModel.stages[-2]\n",
    "\n",
    "list(zip(va.getInputCols(), tree.featureImportances))"
   ]
  },
  {
   "cell_type": "code",
   "execution_count": 195,
   "id": "4647d551-8e96-4169-95b5-6dc6f77eac11",
   "metadata": {},
   "outputs": [
    {
     "data": {
      "text/plain": [
       "GBTClassificationModel: uid = GBTClassifier_543f140c01a7, numTrees=20, numClasses=2, numFeatures=28"
      ]
     },
     "metadata": {},
     "output_type": "display_data"
    }
   ],
   "source": [
    "display(tree)"
   ]
  },
  {
   "cell_type": "markdown",
   "id": "c74f13aa-eb41-49e9-80fd-a898943f5779",
   "metadata": {},
   "source": [
    "# Save the best model"
   ]
  },
  {
   "cell_type": "code",
   "execution_count": 196,
   "id": "f509343a-9b17-4530-a194-0d6abc5b7deb",
   "metadata": {},
   "outputs": [
    {
     "name": "stderr",
     "output_type": "stream",
     "text": [
      "                                                                                \r"
     ]
    }
   ],
   "source": [
    "cvModel.bestModel.write().overwrite().save(\"s3://cn490-project/model_location/gbt_small_f2\")"
   ]
  },
  {
   "cell_type": "code",
   "execution_count": null,
   "id": "dcc70a4f-cfd4-4f70-9737-e0b272f6a2ee",
   "metadata": {},
   "outputs": [],
   "source": [
    "spark.stop()"
   ]
  },
  {
   "cell_type": "code",
   "execution_count": null,
   "id": "14882f2f-2440-4751-860b-6c636bdf85c3",
   "metadata": {},
   "outputs": [],
   "source": []
  }
 ],
 "metadata": {
  "kernelspec": {
   "display_name": "Python 3 (ipykernel)",
   "language": "python",
   "name": "python3"
  },
  "language_info": {
   "codemirror_mode": {
    "name": "ipython",
    "version": 3
   },
   "file_extension": ".py",
   "mimetype": "text/x-python",
   "name": "python",
   "nbconvert_exporter": "python",
   "pygments_lexer": "ipython3",
   "version": "3.7.11"
  }
 },
 "nbformat": 4,
 "nbformat_minor": 5
}
